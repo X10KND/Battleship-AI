{
 "cells": [
  {
   "cell_type": "code",
   "execution_count": 1,
   "id": "3cfa12c0",
   "metadata": {},
   "outputs": [],
   "source": [
    "import random\n",
    "import numpy as np\n",
    "import matplotlib.pyplot as plt\n",
    "\n",
    "class Battleship:\n",
    "    \n",
    "    def __init__(self):\n",
    "        self.reset()\n",
    "        \n",
    "    def spawn(self, m, direction = None, x = None, y = None):\n",
    "        n = int(m)\n",
    "        self.ships += n\n",
    "        \n",
    "        self.shipList[m] = n\n",
    "        \n",
    "        if direction == None:\n",
    "            while True:\n",
    "                direction = random.randrange(2)\n",
    "\n",
    "                #x = random.randrange(11 - n)\n",
    "                #y = random.randrange(11 - n)\n",
    "\n",
    "                if direction == 0:\n",
    "                    x = random.randrange(11 - n)\n",
    "                    y = random.randrange(10)\n",
    "\n",
    "                    if (self.matrix[y, x : x + n] == np.zeros(n)).all():\n",
    "                        self.matrix[y, x : x + n] = m\n",
    "                        self.shipLoc[m] = [(10 * y + x + i) for i in range(n)]\n",
    "                        break\n",
    "\n",
    "                elif direction == 1:\n",
    "                    x = random.randrange(10)\n",
    "                    y = random.randrange(11 - n)\n",
    "                    \n",
    "                    if (self.matrix[y : y + n, x] == np.zeros(n)).all():\n",
    "                        self.matrix[y : y + n, x] = m\n",
    "                        self.shipLoc[m] = [(10 * (y + i) + x) for i in range(n)]\n",
    "                        break\n",
    "                            \n",
    "        else:\n",
    "            if direction == 0: \n",
    "                self.matrix[y, x : x + n] = m\n",
    "                self.shipLoc[m] = [(10 * y + x + i) for i in range(n)]\n",
    "            elif direction == 1:\n",
    "                self.matrix[y : y + n, x] = m\n",
    "                self.shipLoc[m] = [(10 * (y + i) + x) for i in range(n)]\n",
    "    \n",
    "    '''\n",
    "    def inflatedSpawn(self, m):\n",
    "        \n",
    "        n = int(m)\n",
    "        self.ships += n\n",
    "        \n",
    "        self.shipList[m] = n\n",
    "        \n",
    "        while True:\n",
    "            direction = random.randrange(2)\n",
    "\n",
    "            x = random.randrange(10)\n",
    "            y = random.randrange(10)\n",
    "\n",
    "            if direction == 0:\n",
    "                    \n",
    "                if x + n > 10:\n",
    "                    x -= n\n",
    "                \n",
    "                if (self.matrix[y, x : x + n] == np.zeros(n)).all():\n",
    "                    if y > 0:\n",
    "                        if (self.matrix[y - 1, x : x + n] != np.zeros(n)).any():\n",
    "                            continue\n",
    "                    if y < 9:\n",
    "                        if (self.matrix[y + 1, x : x + n] != np.zeros(n)).any():\n",
    "                            continue\n",
    "                    if x > 0:\n",
    "                        if self.matrix[y, x - 1] != 0:\n",
    "                            continue\n",
    "                    if x + n < 10:\n",
    "                        if self.matrix[y, x + n] != 0:\n",
    "                            continue\n",
    "                    \n",
    "                    self.matrix[y, x : x + n] = m\n",
    "                    self.shipLoc[m] = [(10 * y + x + i) for i in range(n)]\n",
    "                    break\n",
    "\n",
    "            elif direction == 1:\n",
    "                    \n",
    "                if y + n > 10:\n",
    "                    y -= n\n",
    "                            \n",
    "                if (self.matrix[y : y + n, x] == np.zeros(n)).all():\n",
    "                    \n",
    "                    if x > 0:\n",
    "                        if (self.matrix[y : y + n, x - 1] != np.zeros(n)).any():\n",
    "                            continue\n",
    "                    if x < 9:\n",
    "                        if (self.matrix[y : y + n, x + 1] != np.zeros(n)).any():\n",
    "                            continue\n",
    "                            \n",
    "                    if y > 0:\n",
    "                        if self.matrix[y - 1, x] != 0:\n",
    "                            continue\n",
    "                    if y + n < 10:\n",
    "                        if self.matrix[y + n, x] != 0:\n",
    "                            continue\n",
    "                            \n",
    "                    self.matrix[y : y + n, x] = m\n",
    "                    self.shipLoc[m] = [(10 * (y + i) + x) for i in range(n)]\n",
    "                    break\n",
    "        '''\n",
    "    def action_space(self):\n",
    "        moveList = []\n",
    "        for y in range(10):\n",
    "            for x in range(10):\n",
    "                if self.fired[y][x] == 0:\n",
    "                    moveList.append(10 * y + x)\n",
    "        \n",
    "        return random.choice(moveList)\n",
    "    \n",
    "    def step(self, action):\n",
    "        \n",
    "        y = action // 10\n",
    "        x = action % 10\n",
    "        \n",
    "        if self.fired[y][x] != 0:\n",
    "            info = \"Invalid move\"\n",
    "            print(info)\n",
    "        else:\n",
    "            self.fired[y][x] = 0.5\n",
    "            self.history.pop(0)\n",
    "            self.history.append(action)\n",
    "            self.score += 1\n",
    "            \n",
    "            if self.matrix[y][x] != 0:\n",
    "                info = \"Hit\"\n",
    "                self.hitCount += 1\n",
    "                self.fired[y][x] = 1\n",
    "                self.ships -= 1\n",
    "                self.shipList[self.matrix[y][x]] -= 1\n",
    "                if self.shipList[self.matrix[y][x]] == 0:\n",
    "                    info = f\"Dead {self.matrix[y][x]}\"\n",
    "                    self.deadCount += int(self.matrix[y][x])\n",
    "                    self.deadShipLoc[self.matrix[y][x]] = self.shipLoc[self.matrix[y][x]]\n",
    "            else:\n",
    "                info = \"Miss\"\n",
    "                \n",
    "            self.matrix[y][x] = -1\n",
    "        \n",
    "        observation = self.fired.copy()\n",
    "        done = self.isdone()\n",
    "        \n",
    "        return info\n",
    "        \n",
    "    def isdone(self):\n",
    "        if self.ships == 0:\n",
    "            return True\n",
    "        return False\n",
    "    \n",
    "    def reset(self):\n",
    "        \n",
    "        self.matrix = np.zeros((10,10))\n",
    "        self.heatMap = np.zeros((10,10))\n",
    "        self.fired = np.zeros((10,10))\n",
    "        \n",
    "        self.history = [None, None, None, None, None, None]\n",
    "        \n",
    "        self.shipList = {}\n",
    "        self.shipLoc = {}\n",
    "        self.deadShipLoc = {}\n",
    "        \n",
    "        self.ships = 0\n",
    "        self.score = 0\n",
    "        \n",
    "        self.hitCount = 0\n",
    "        self.deadCount = 0\n",
    "        \n",
    "        if False:\n",
    "            self.spawn(5, 0, 4, 3)\n",
    "            self.spawn(4, 0, 3, 2)\n",
    "            self.spawn(3.1, 0, 1, 9)\n",
    "            self.spawn(3.2, 1, 0, 1)\n",
    "            self.spawn(2, 0, 7, 2)\n",
    "        else:\n",
    "            self.spawn(5)\n",
    "            self.spawn(4)\n",
    "            self.spawn(3.1)\n",
    "            self.spawn(3.2)\n",
    "            self.spawn(2)\n",
    "        \n",
    "        self.probabilityDensity()\n",
    "        \n",
    "    def probabilityDensity(self):\n",
    "        \n",
    "        sizes = list(self.shipList.values())\n",
    "        sizes.sort()\n",
    "        while 0 in sizes:\n",
    "            sizes.remove(0)\n",
    "            \n",
    "        self.heatMap = np.zeros((10,10))\n",
    "        \n",
    "        for s in sizes:\n",
    "            for y in range(10):\n",
    "                for x in range(11 - s):\n",
    "                    if(self.fired[y, x : x + s] == np.zeros(s)).all():\n",
    "                        self.heatMap[y, x : x + s] += 1\n",
    "                        \n",
    "            for y in range(11 - s):\n",
    "                for x in range(10):\n",
    "                    if(self.fired[y : y + s, x] == np.zeros(s)).all():\n",
    "                        self.heatMap[y : y + s, x] += 1\n",
    "                        \n",
    "        \n",
    "        return np.sum(self.heatMap), np.amax(self.heatMap)\n",
    "    \n",
    "    def showHeat(self):\n",
    "        plt.imshow(self.heatMap, cmap='Reds')\n",
    "        plt.show()\n",
    "    \n",
    "    def render(self):\n",
    "        for y in range(10):\n",
    "            for x in range(10):\n",
    "                if self.matrix[y][x] == 0:\n",
    "                    print(\". \", end = \"\")\n",
    "                elif self.matrix[y][x] == -1:\n",
    "                    print(\"x \", end = \"\")\n",
    "                else:\n",
    "                    print(f\"{int(self.matrix[y][x])} \", end = \"\")\n",
    "            print()\n",
    "        print()"
   ]
  },
  {
   "cell_type": "code",
   "execution_count": 2,
   "id": "dec497ff",
   "metadata": {
    "scrolled": true
   },
   "outputs": [],
   "source": [
    "arr = np.zeros((10,10))\n",
    "for i in range(100000):\n",
    "    env = Battleship()\n",
    "    #env.matrix = [[0.0, 0.0, 0.0, 0.0, 0.0, 0.0, 0.0, 0.0, 0.0, 0.0], [3.2, 0.0, 0.0, 0.0, 0.0, 0.0, 0.0, 0.0, 0.0, 0.0], [3.2, 0.0, 0.0, 4.0, 4.0, 4.0, 4.0, 2.0, 2.0, 0.0], [3.2, 0.0, 0.0, 0.0, 5.0, 5.0, 5.0, 5.0, 5.0, 0.0], [0.0, 0.0, 0.0, 0.0, 0.0, 0.0, 0.0, 0.0, 0.0, 0.0], [0.0, 0.0, 0.0, 0.0, 0.0, 0.0, 0.0, 0.0, 0.0, 0.0], [0.0, 0.0, 0.0, 0.0, 0.0, 0.0, 0.0, 0.0, 0.0, 0.0], [0.0, 0.0, 0.0, 0.0, 0.0, 0.0, 0.0, 0.0, 0.0, 0.0], [0.0, 0.0, 0.0, 0.0, 0.0, 0.0, 0.0, 0.0, 0.0, 0.0], [0.0, 3.1, 3.1, 3.1, 0.0, 0.0, 0.0, 0.0, 0.0, 0.0]]\n",
    "\n",
    "    arr += (env.matrix>1).astype(int)"
   ]
  },
  {
   "cell_type": "code",
   "execution_count": null,
   "id": "416a4782",
   "metadata": {
    "scrolled": true
   },
   "outputs": [],
   "source": [
    "env.heatMap = arr/len(arr)\n",
    "env.showHeat()\n",
    "arr/len(arr)"
   ]
  },
  {
   "cell_type": "code",
   "execution_count": 16,
   "id": "94cd81f4",
   "metadata": {},
   "outputs": [],
   "source": [
    "env = Battleship()"
   ]
  },
  {
   "cell_type": "code",
   "execution_count": 18,
   "id": "64b7905a",
   "metadata": {},
   "outputs": [
    {
     "data": {
      "text/plain": [
       "{5: 5, 4: 4, 3.1: 3, 3.2: 3, 2: 2}"
      ]
     },
     "execution_count": 18,
     "metadata": {},
     "output_type": "execute_result"
    }
   ],
   "source": [
    "env.shipList"
   ]
  },
  {
   "cell_type": "code",
   "execution_count": 12,
   "id": "7b845a51",
   "metadata": {},
   "outputs": [],
   "source": [
    "#y x\n",
    "env.fired[4,5] = 1"
   ]
  },
  {
   "cell_type": "code",
   "execution_count": 17,
   "id": "adaa8bd1",
   "metadata": {},
   "outputs": [
    {
     "name": "stdout",
     "output_type": "stream",
     "text": [
      "[[4 4]\n",
      " [4 5]\n",
      " [5 4]\n",
      " [5 5]]\n"
     ]
    },
    {
     "data": {
      "image/png": "[encoded data removed]",
      "text/plain": [
       "<Figure size 432x288 with 1 Axes>"
      ]
     },
     "metadata": {
      "needs_background": "light"
     },
     "output_type": "display_data"
    },
    {
     "data": {
      "text/plain": [
       "array([[10., 15., 19., 21., 22., 22., 21., 19., 15., 10.],\n",
       "       [15., 20., 24., 26., 27., 27., 26., 24., 20., 15.],\n",
       "       [19., 24., 28., 30., 31., 31., 30., 28., 24., 19.],\n",
       "       [21., 26., 30., 32., 33., 33., 32., 30., 26., 21.],\n",
       "       [22., 27., 31., 33., 34., 34., 33., 31., 27., 22.],\n",
       "       [22., 27., 31., 33., 34., 34., 33., 31., 27., 22.],\n",
       "       [21., 26., 30., 32., 33., 33., 32., 30., 26., 21.],\n",
       "       [19., 24., 28., 30., 31., 31., 30., 28., 24., 19.],\n",
       "       [15., 20., 24., 26., 27., 27., 26., 24., 20., 15.],\n",
       "       [10., 15., 19., 21., 22., 22., 21., 19., 15., 10.]])"
      ]
     },
     "execution_count": 17,
     "metadata": {},
     "output_type": "execute_result"
    }
   ],
   "source": [
    "env.probabilityDensity()\n",
    "actionList = np.argwhere(env.heatMap == np.amax(env.heatMap))\n",
    "print(actionList)\n",
    "env.showHeat()\n",
    "env.heatMap"
   ]
  },
  {
   "cell_type": "code",
   "execution_count": 3,
   "id": "94da9329",
   "metadata": {
    "scrolled": false
   },
   "outputs": [
    {
     "name": "stdout",
     "output_type": "stream",
     "text": [
      "[10 14 18 20 21 21 20 19 15 10]\n",
      "[14 19 22 24 25 25 24 22 19 15]\n",
      "[18 23 25 27 28 28 27 26 22 18]\n",
      "[20 24 27 29 30 30 29 27 24 20]\n",
      "[21 25 28 29 30 30 29 28 25 21]\n",
      "[21 25 28 29 30 30 29 28 25 21]\n",
      "[20 24 27 28 29 29 28 27 24 20]\n",
      "[18 22 26 27 28 28 27 26 23 18]\n",
      "[15 19 23 24 25 25 24 22 19 15]\n",
      "[10 15 19 20 21 21 20 19 14 10]\n"
     ]
    }
   ],
   "source": [
    "for x in arr:\n",
    "    print((x*10/arr[0,0]).astype(int))"
   ]
  },
  {
   "cell_type": "code",
   "execution_count": 8,
   "id": "6d4e9c21",
   "metadata": {},
   "outputs": [
    {
     "name": "stdout",
     "output_type": "stream",
     "text": [
      "2480.0\n",
      "2340.6305934186976\n",
      "[[0 0 0 0 0 0 0 0 0 0]\n",
      " [0 0 1 1 1 1 1 1 0 0]\n",
      " [0 0 2 2 2 2 2 1 1 0]\n",
      " [0 1 2 2 2 2 2 2 1 0]\n",
      " [0 1 2 3 3 3 3 2 1 0]\n",
      " [0 1 2 3 3 3 3 2 1 0]\n",
      " [0 1 2 3 3 3 3 2 1 0]\n",
      " [0 1 1 2 2 2 2 1 0 0]\n",
      " [0 0 0 1 1 1 1 1 0 0]\n",
      " [0 0 0 0 0 0 0 0 0 0]]\n"
     ]
    },
    {
     "data": {
      "image/png": "[encoded data removed]",
      "text/plain": [
       "<Figure size 432x288 with 1 Axes>"
      ]
     },
     "metadata": {
      "needs_background": "light"
     },
     "output_type": "display_data"
    }
   ],
   "source": [
    "env = Battleship()\n",
    "x = (env.heatMap - ((arr*10)/arr[0,0])).astype(int)\n",
    "print(np.sum(env.heatMap))\n",
    "print(np.sum(((arr*10)/arr[0,0])))\n",
    "y = np.array([\n",
    "    [0,1,1,1,1,1,1,1,1,0],\n",
    "    [1,1,2,2,2,2,2,2,1,1],\n",
    "    [1,2,2,3,3,3,3,2,2,1],\n",
    "    [1,2,3,3,4,4,3,3,2,1],\n",
    "    [1,2,3,4,5,5,4,3,2,1],\n",
    "    [1,2,3,4,5,5,4,3,2,1],\n",
    "    [1,2,3,3,4,4,3,3,2,1],\n",
    "    [1,2,2,3,3,3,3,2,2,1],\n",
    "    [1,1,2,2,2,2,2,2,1,1],\n",
    "    [0,1,1,1,1,1,1,1,1,0]\n",
    "    ])\n",
    "plt.imshow(x, cmap='Reds')\n",
    "print(x)"
   ]
  },
  {
   "cell_type": "code",
   "execution_count": null,
   "id": "46f639b1",
   "metadata": {},
   "outputs": [],
   "source": [
    "env.heatMap"
   ]
  },
  {
   "cell_type": "code",
   "execution_count": 2,
   "id": "504f44cd",
   "metadata": {},
   "outputs": [],
   "source": [
    "def deadZone(a):\n",
    "    dead = list(env.deadShipLoc.values())\n",
    "    deadShips = []\n",
    "\n",
    "    for sublist in dead:\n",
    "        for d in sublist:\n",
    "            deadShips.append(d)\n",
    "            \n",
    "    return a in deadShips\n",
    "\n",
    "def areaScan(a):\n",
    "    \n",
    "    y = a // 10\n",
    "    x = a % 10\n",
    "\n",
    "    arr = []\n",
    "    hitPlaces = [a]\n",
    "    target = \"\"\n",
    "\n",
    "    if x > 0:\n",
    "        if env.fired[y][x - 1] == 0:\n",
    "            arr.append([env.heatMap[y][x - 1], a - 1, -1, \"x\"])\n",
    "    if x < 9:\n",
    "        if env.fired[y][x + 1] == 0:\n",
    "            arr.append([env.heatMap[y][x + 1], a + 1, 1, \"x\"])\n",
    "    if y > 0:\n",
    "        if env.fired[y - 1][x] == 0:\n",
    "            arr.append([env.heatMap[y - 1][x], a - 10, -10, \"y\"])\n",
    "    if y < 9:\n",
    "        if env.fired[y + 1][x] == 0:\n",
    "            arr.append([env.heatMap[y + 1][x], a + 10, 10, \"y\"])\n",
    "            \n",
    "    if len(arr) == 0:\n",
    "        return\n",
    "\n",
    "    #arr.sort(reverse = True)\n",
    "\n",
    "    while len(arr) != 0:\n",
    "        \n",
    "        flag = True\n",
    "        \n",
    "        if target != \"\":\n",
    "            for i in range(len(arr)):\n",
    "                if arr[i][3] == target:\n",
    "                    flag = False\n",
    "                    idx = i\n",
    "                    ele = arr[idx]\n",
    "                    break\n",
    "                    \n",
    "        if target == \"\" or flag:\n",
    "            idx = arr.index(max(arr))\n",
    "            ele = arr[idx]      \n",
    "        \n",
    "        action = ele[1]\n",
    "        delta = ele[2]\n",
    "        axis = ele[3]\n",
    "        \n",
    "        arr.pop(idx)\n",
    "        \n",
    "        if env.fired[action // 10][action % 10] != 0:\n",
    "            continue\n",
    "\n",
    "        info = env.step(action)\n",
    "        \n",
    "        if SHOW_RENDER:\n",
    "            print(action, info, \"Area\")\n",
    "            env.render()\n",
    "            env.showHeat()\n",
    "\n",
    "        if env.isdone():\n",
    "            return\n",
    "\n",
    "        if info == \"Hit\" or \"Dead\" in info:\n",
    "            \n",
    "            target = axis\n",
    "            hitPlaces.append(action)\n",
    "            \n",
    "            if SHOW_RENDER:\n",
    "                print(\"Looop\")\n",
    "            if \"Dead\" in info:\n",
    "                if env.hitCount == env.deadCount:\n",
    "                    if SHOW_RENDER:\n",
    "                        print(\"Retreat\")\n",
    "                    return\n",
    "                else:\n",
    "                    if SHOW_RENDER:\n",
    "                        print(\"Calling\")\n",
    "                        print(hitPlaces)\n",
    "                    for hp in hitPlaces:\n",
    "                        if not deadZone(hp):\n",
    "                            areaScan(hp)      \n",
    "                    return\n",
    "                \n",
    "            action += delta\n",
    "            \n",
    "            if action >= 0 and action < 100:\n",
    "                if env.fired[action // 10][action % 10] == 0:\n",
    "                    arr.append([env.heatMap[action // 10][action % 10], action, delta, target])\n",
    "                    \n",
    "    for hp in hitPlaces:\n",
    "        if not deadZone(hp):\n",
    "            areaScan(hp)   "
   ]
  },
  {
   "cell_type": "code",
   "execution_count": 12,
   "id": "c693b6d7",
   "metadata": {
    "scrolled": false
   },
   "outputs": [
    {
     "name": "stderr",
     "output_type": "stream",
     "text": [
      "C:\\Users\\Asef\\AppData\\Local\\Temp/ipykernel_2356/1634336019.py:40: VisibleDeprecationWarning: Creating an ndarray from ragged nested sequences (which is a list-or-tuple of lists-or-tuples-or ndarrays with different lengths or shapes) is deprecated. If you meant to do this, you must specify 'dtype=object' when creating the ndarray\n",
      "  moves = np.array(moves)\n"
     ]
    },
    {
     "name": "stdout",
     "output_type": "stream",
     "text": [
      "\n",
      "\n",
      "Total = 446488\n",
      "Count = 10000\n",
      "Mean = 44.6488\n",
      "Median = 44\n"
     ]
    }
   ],
   "source": [
    "SHOW_RENDER = False\n",
    "\n",
    "env = Battleship()\n",
    "scores = []\n",
    "\n",
    "for _ in range(10000):\n",
    "    \n",
    "    done = False\n",
    "    env.reset()\n",
    "    moves = 0\n",
    "    cp = env.matrix.tolist().copy()\n",
    "    #print(env.matrix.tolist())\n",
    "    while not done:\n",
    "        \n",
    "        env.probabilityDensity()\n",
    "        \n",
    "        #action = np.argmax(env.heatMap)\n",
    "        \n",
    "        actionList = np.argwhere(env.heatMap == np.amax(env.heatMap))\n",
    "        #print(actionList)\n",
    "        #print()\n",
    "        moves = []\n",
    "        for a in actionList:\n",
    "            \n",
    "            heatScore = 0\n",
    "            y = a[0]\n",
    "            x = a[1]\n",
    "            \n",
    "            if x > 0:\n",
    "                heatScore += env.heatMap[y][x - 1]\n",
    "            if x < 9:\n",
    "                heatScore += env.heatMap[y][x + 1]\n",
    "            if y > 0:\n",
    "                heatScore += env.heatMap[y - 1][x]\n",
    "            if y < 9:\n",
    "                heatScore += env.heatMap[y + 1][x]\n",
    "                \n",
    "            moves.append([heatScore, a])\n",
    "        \n",
    "        moves = np.array(moves)\n",
    "        #action = moves[random.choice(np.argwhere(moves[:,0] == moves[:,0].min())), 1][0]\n",
    "        action = random.choice(actionList)\n",
    "        action = action[0] * 10 + action[1]\n",
    "\n",
    "        info = env.step(action)\n",
    "        moves += 1\n",
    "        \n",
    "        done = env.isdone()\n",
    "        if done:\n",
    "            break\n",
    "\n",
    "        if SHOW_RENDER:\n",
    "            print(action, info, \"Main\")\n",
    "            env.render()\n",
    "            env.showHeat()\n",
    "\n",
    "        if info == \"Hit\":\n",
    "            areaScan(action)\n",
    "        \n",
    "        done = env.isdone()\n",
    "\n",
    "    #print(f\"{env.score}\")\n",
    "    scores.append(env.score)\n",
    "\n",
    "print(\"\\n\")\n",
    "print(f\"Total = {sum(scores)}\")\n",
    "print(f\"Count = {len(scores)}\")\n",
    "print(f\"Mean = {sum(scores) / len(scores)}\")\n",
    "scores.sort()\n",
    "print(f\"Median = {scores[len(scores) // 2]}\")"
   ]
  },
  {
   "cell_type": "code",
   "execution_count": 13,
   "id": "3b05f02a",
   "metadata": {},
   "outputs": [
    {
     "data": {
      "image/png": "[encoded data removed]",
      "text/plain": [
       "<Figure size 432x288 with 1 Axes>"
      ]
     },
     "metadata": {
      "needs_background": "light"
     },
     "output_type": "display_data"
    }
   ],
   "source": [
    "plt.hist(scores, bins=np.arange(min(scores), max(scores)+1))\n",
    "plt.show()"
   ]
  },
  {
   "cell_type": "code",
   "execution_count": null,
   "id": "34efb5ab",
   "metadata": {
    "scrolled": true
   },
   "outputs": [],
   "source": [
    "for i in range(min(scores), max(scores) + 1):\n",
    "    print(f\"{i},{scores.count(i)}\")"
   ]
  },
  {
   "cell_type": "code",
   "execution_count": null,
   "id": "1fd7c4fc",
   "metadata": {
    "scrolled": true
   },
   "outputs": [],
   "source": [
    "env = Battleship()\n",
    "env.reset()\n",
    "\n",
    "done = False\n",
    "while not done:\n",
    "\n",
    "    action = int(input())\n",
    "    info = env.step(action)\n",
    "    print(info)\n",
    "    done = env.isdone()\n",
    "    print(env.fired)\n",
    "    \n",
    "print(env.score)"
   ]
  }
 ],
 "metadata": {
  "kernelspec": {
   "display_name": "Python 3 (ipykernel)",
   "language": "python",
   "name": "python3"
  },
  "language_info": {
   "codemirror_mode": {
    "name": "ipython",
    "version": 3
   },
   "file_extension": ".py",
   "mimetype": "text/x-python",
   "name": "python",
   "nbconvert_exporter": "python",
   "pygments_lexer": "ipython3",
   "version": "3.8.10"
  }
 },
 "nbformat": 4,
 "nbformat_minor": 5
}
